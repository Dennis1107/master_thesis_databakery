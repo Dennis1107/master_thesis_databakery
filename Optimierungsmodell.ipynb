{
 "cells": [
  {
   "cell_type": "code",
   "execution_count": 1,
   "metadata": {},
   "outputs": [],
   "source": [
    "from gurobipy import *\n",
    "import csv\n",
    "import pandas as pd"
   ]
  },
  {
   "cell_type": "markdown",
   "metadata": {},
   "source": [
    "# Optimierung für 1 isoliertes Produkt"
   ]
  },
  {
   "cell_type": "code",
   "execution_count": 1,
   "metadata": {},
   "outputs": [],
   "source": [
    "#Read data\n",
    "df = pd.read_csv('Prophet_Brezeln.csv')"
   ]
  },
  {
   "cell_type": "code",
   "execution_count": 3,
   "metadata": {},
   "outputs": [],
   "source": [
    "scenarios = list(df['Sc'])\n",
    "demand = dict(zip(df.Sc, df['18074']))\n",
    "prob = dict(zip(df.Sc, df.prob))"
   ]
  },
  {
   "cell_type": "code",
   "execution_count": 4,
   "metadata": {},
   "outputs": [
    {
     "name": "stdout",
     "output_type": "stream",
     "text": [
      "Academic license - for non-commercial use only\n"
     ]
    }
   ],
   "source": [
    "m = Model()\n",
    "\n",
    "#Preise & Kosten (anonymisiert)\n",
    "price = 1\n",
    "costs = 1\n",
    "\n",
    "#Variablen einführen\n",
    "order = m.addVar(vtype=GRB.INTEGER, name = \"order\")\n",
    "sales = m.addVars(scenarios, name = \"sales\")"
   ]
  },
  {
   "cell_type": "code",
   "execution_count": 7,
   "metadata": {},
   "outputs": [
    {
     "name": "stdout",
     "output_type": "stream",
     "text": [
      "\n"
     ]
    }
   ],
   "source": [
    "#Sales & Demand Nebenbedingung\n",
    "m.addConstrs((sales[s] <= order for s in scenarios), name = \"Cons1\")\n",
    "m.addConstrs((sales[s] <= demand[s] for s in scenarios), name = \"Cons2\")"
   ]
  },
  {
   "cell_type": "code",
   "execution_count": 10,
   "metadata": {},
   "outputs": [
    {
     "name": "stdout",
     "output_type": "stream",
     "text": [
      "\n"
     ]
    }
   ],
   "source": [
    "obj = quicksum(  (prob[s]*sales[s]*price) for s in scenarios ) - order * costs \n",
    "\n",
    "\n",
    "m.setObjective(obj, GRB.MAXIMIZE)\n",
    "\n",
    "\n",
    "m.optimize()\n",
    "m.printAttr('X')"
   ]
  },
  {
   "cell_type": "markdown",
   "metadata": {},
   "source": [
    "# Optimierung mit Berücksichtigung von Substitution"
   ]
  },
  {
   "cell_type": "code",
   "execution_count": null,
   "metadata": {},
   "outputs": [],
   "source": [
    "#Daten einlesen\n",
    "df_p1 = pd.read_csv('Prophet_Brezeln.csv')\n",
    "\n",
    "df_p2 = pd.read_csv('Prophet_Laugenstange.csv')\n",
    "\n",
    "df_p3 = pd.read_csv('Prophet_Laugenbroetchen.csv')"
   ]
  },
  {
   "cell_type": "code",
   "execution_count": null,
   "metadata": {},
   "outputs": [],
   "source": [
    "#\"Sales\" Szenarien -> Key für die Python Dictionaries\n",
    "scenarios_p1 = list(df_p1['Sc'])\n",
    "scenarios_p2 = list(df_p2['Sc'])\n",
    "scenarios_p3 = list(df_p3['Sc'])\n",
    "\n",
    "#Für ausgewählte Tage:\n",
    "demand_p1 = dict(zip(df_p1.Sc, df_p1['18078']))\n",
    "prob_p1 = dict(zip(df_p1.Sc, df_p1.prob))\n",
    "\n",
    "demand_p2 = dict(zip(df_p2, df_p2['18078']))\n",
    "prob_p2 = dict(zip(df_p2_new.Sc, df_p2_new.prob))\n",
    "\n",
    "demand_p3 = dict(zip(df_p3.Sc, df_p3['18078']))\n",
    "prob_p3 = dict(zip(df_p3.Sc, df_p3.prob))\n",
    "\n",
    "\n",
    "#Preise & Kosten (anonymisiert)\n",
    "price_p1 = 1\n",
    "costs_p1 = 1\n",
    "price_p2 = 1\n",
    "costs_p2 = 1\n",
    "price_p3 = 1\n",
    "costs_p3 = 1\n",
    "\n",
    "\n",
    "#Parameter werden für jedes Szenario angepasst\n",
    "scvl = 0.8\n",
    "\n",
    "alpha_12 = 1\n",
    "alpha_13 = 1\n",
    "\n",
    "alpha_21 = 1\n",
    "alpha_23 = 1\n",
    "\n",
    "alpha_31 = 1\n",
    "alpha_32 = 1"
   ]
  },
  {
   "cell_type": "code",
   "execution_count": null,
   "metadata": {},
   "outputs": [],
   "source": [
    "m = Model()\n",
    "\n",
    "#Dummy Variable für M-Methode\n",
    "M1 = m.addVars(scenarios_p1, vtype=GRB.BINARY, name = \"M1\")\n",
    "M2 = m.addVars(scenarios_p2, vtype=GRB.BINARY, name = \"M2\")\n",
    "M3 = m.addVars(scenarios_p3, vtype=GRB.BINARY, name = \"M3\")\n",
    "\n",
    "#Produkt 1 \n",
    "order_p1 = m.addVar(vtype=GRB.INTEGER, name = \"order_p1\")\n",
    "sales_p1 = m.addVars(scenarios_p1,vtype=GRB.INTEGER, name = \"sales_p1\")\n",
    "sub_p12 = m.addVars(scenarios_p2, vtype=GRB.INTEGER, name = \"sub_p12\")\n",
    "sub_p13 = m.addVars(scenarios_p3, vtype=GRB.INTEGER, name = \"sub_p13\")\n",
    "\n",
    "#Produkt 2\n",
    "order_p2 = m.addVar(vtype=GRB.INTEGER, name = \"order_p2\")\n",
    "sales_p2 = m.addVars(scenarios_p2, vtype=GRB.INTEGER, name = \"sales_p2\")\n",
    "sub_p21 = m.addVars(scenarios_p1, vtype=GRB.INTEGER, name = \"sub_p21\")\n",
    "sub_p23 = m.addVars(scenarios_p3, vtype=GRB.INTEGER, name = \"sub_p23\")\n",
    "\n",
    "#Produkt 3\n",
    "order_p3 = m.addVar(vtype=GRB.INTEGER, name = \"order_p3\")\n",
    "sales_p3 = m.addVars(scenarios_p3, vtype=GRB.INTEGER, name = \"sales_p3\")\n",
    "sub_p31 = m.addVars(scenarios_p1, vtype=GRB.INTEGER, name = \"sub_p31\")\n",
    "sub_p32 = m.addVars(scenarios_p2, vtype=GRB.INTEGER, name = \"sub_p32\")\n",
    "\n",
    "#Sub Variable ist so zu lesen: Sub_p32 = Substitution von Produkt 2 zu Produkt 3\n",
    "\n",
    "#Sales Constraint\n",
    "m.addConstrs((sales_p1[s] <= order_p1 for s in scenarios_p1), name = \"Cons1\")\n",
    "m.addConstrs((sales_p2[s] <= order_p2 for s in scenarios_p2), name = \"Cons2\")\n",
    "m.addConstrs((sales_p3[s] <= order_p3 for s in scenarios_p3), name = \"Cons3\")\n",
    "\n",
    "#Demand Constraint\n",
    "m.addConstrs((sales_p1[s] <= demand_p1[s] for s in scenarios_p1), name = \"Cons4\")\n",
    "m.addConstrs((sales_p2[s] <= demand_p2[s] for s in scenarios_p2), name = \"Cons5\")\n",
    "m.addConstrs((sales_p3[s] <= demand_p3[s] for s in scenarios_p3), name = \"Cons6\")\n",
    "\n",
    "#Service Level Constraint\n",
    "m.addConstr((order_p1 >= quicksum(demand_p1[s]*prob_p1[s] for s in scenarios_p1)* scvl), name = \"Cons101\")\n",
    "m.addConstr((order_p2 >= quicksum(demand_p2[s]*prob_p2[s] for s in scenarios_p2)* scvl), name = \"Cons102\")\n",
    "m.addConstr((order_p3 >= quicksum(demand_p3[s]*prob_p3[s] for s in scenarios_p3)* scvl), name = \"Cons103\")\n",
    "\n",
    "#Sales & Substitution constraint\n",
    "m.addConstrs(( (sub_p12[m] + sub_p13[p] + sales_p1[s]) <= order_p1 for p in scenarios_p3 for m in scenarios_p2 for s in scenarios_p1), name = \"Cons7\")\n",
    "m.addConstrs(( (sub_p21[s] + sub_p23[p] + sales_p2[m]) <= order_p2 for p in scenarios_p3 for s in scenarios_p1 for m in scenarios_p2), name = \"Cons8\")\n",
    "m.addConstrs(( (sub_p31[s] + sub_p32[m] + sales_p3[p]) <= order_p3 for m in scenarios_p2 for s in scenarios_p1 for p in scenarios_p3), name = \"Cons9\")\n",
    "\n",
    "\n",
    "#M-Methode für jedes Produkt\n",
    "m.addConstrs((sales_p1[s] >= order_p1 - 100000 * (1-M1[s]) for s in scenarios_p1), name = \"ConsB1\")\n",
    "m.addConstrs((sales_p1[s] + 0.000001 <= order_p1 + 100000 * M1[s] for s in scenarios_p1), name = \"ConsB2\")\n",
    "m.addConstrs((sub_p21[s] == M1[s]*(demand_p1[s]-order_p1) for s in scenarios_p1), name = \"ConsB3\")\n",
    "m.addConstrs((sub_p31[s] == M1[s]*(demand_p1[s]-order_p1) for s in scenarios_p1), name = \"ConsB3\")\n",
    "\n",
    "m.addConstrs((sales_p2[s] >= order_p2 - 100000 * (1-M2[s]) for s in scenarios_p2), name = \"ConsB4\")\n",
    "m.addConstrs((sales_p2[s] + 0.000001 <= order_p2 + 100000 * M2[s] for s in scenarios_p2), name = \"ConsB5\")\n",
    "m.addConstrs((sub_p12[s] == M2[s]*(demand_p2[s]-order_p2) for s in scenarios_p2), name = \"ConsB6\") \n",
    "m.addConstrs((sub_p32[s] == M2[s]*(demand_p2[s]-order_p2) for s in scenarios_p2), name = \"ConsB7\")\n",
    "\n",
    "m.addConstrs((sales_p3[s] >= order_p3 - 100000 * (1-M3[s]) for s in scenarios_p3), name = \"ConsB8\")\n",
    "m.addConstrs((sales_p3[s] + 0.000001 <= order_p3 + 100000 * M3[s] for s in scenarios_p3), name = \"ConsB9\")\n",
    "m.addConstrs((sub_p23[s] == M3[s]*(demand_p3[s]-order_p3) for s in scenarios_p3), name = \"ConsB10\") \n",
    "m.addConstrs((sub_p13[s] == M3[s]*(demand_p3[s]-order_p3) for s in scenarios_p3), name = \"ConsB11\")\n"
   ]
  },
  {
   "cell_type": "code",
   "execution_count": null,
   "metadata": {},
   "outputs": [],
   "source": [
    "m.update()\n",
    "\n",
    "#Objective Function\n",
    "obj = quicksum(\n",
    "            (prob_p1[s]*sales_p1[s]*price_p1 + prob_p2[m] * alpha_12 * price_p1 * sub_p12[m] + prob_p3[p] * alpha_13 * price_p1 * sub_p13[p] - prob_p1[s]*(order_p1 * costs_p1)  + \n",
    "            prob_p2[m]*sales_p2[m]*price_p2 + prob_p1[s] * alpha_21 * price_p2 * sub_p21[s] + prob_p3[p] * alpha_23 * price_p2 * sub_p23[p] - prob_p2[m]*(order_p2 * costs_p2) +\n",
    "            prob_p3[p]*sales_p3[p]*price_p3 + prob_p1[s] * alpha_31 * price_p3 * sub_p31[s] + prob_p2[m] * alpha_32 * price_p3 * sub_p32[m] - prob_p3[p]*(order_p3 * costs_p3) for s in scenarios_p1 for m in scenarios_p2 for p in scenarios_p3)\n",
    "      ) \n",
    "\n",
    "#Reduzierung der Parameter damit RAM nicht voll läuft\n",
    "m.Params.DualReductions = 0\n",
    "m.Params.Threads = 1\n",
    "m.Params.NodefileStart = 0.5\n",
    "\n",
    "m.setObjective(obj, GRB.MAXIMIZE)\n",
    "\n",
    "m.optimize()\n",
    "m.printAttr('X')"
   ]
  }
 ],
 "metadata": {
  "kernelspec": {
   "display_name": "Python 3",
   "language": "python",
   "name": "python3"
  },
  "language_info": {
   "codemirror_mode": {
    "name": "ipython",
    "version": 3
   },
   "file_extension": ".py",
   "mimetype": "text/x-python",
   "name": "python",
   "nbconvert_exporter": "python",
   "pygments_lexer": "ipython3",
   "version": "3.7.3"
  }
 },
 "nbformat": 4,
 "nbformat_minor": 2
}
